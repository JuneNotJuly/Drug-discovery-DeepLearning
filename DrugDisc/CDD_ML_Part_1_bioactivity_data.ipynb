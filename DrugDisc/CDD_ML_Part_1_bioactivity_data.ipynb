{
 "nbformat": 4,
 "nbformat_minor": 0,
 "metadata": {
  "colab": {
   "name": "CDD-ML-Part-1-bioactivity-data.ipynb",
   "provenance": [],
   "collapsed_sections": []
  },
  "kernelspec": {
   "name": "python3",
   "language": "python",
   "display_name": "Python 3"
  }
 },
 "cells": [
  {
   "cell_type": "markdown",
   "metadata": {
    "id": "wSFbIMb87cHu",
    "colab_type": "text"
   },
   "source": [
    "# **Computational Drug Discovery [Part 1] Download Bioactivity Data**\n",
    "\n",
    "Chanin Nantasenamat\n",
    "\n",
    "[*'Data Professor' YouTube channel*](http://youtube.com/dataprofessor)\n",
    "\n",
    "In this Jupyter notebook, we will be building a real-life **data science project** that you can include in your **data science portfolio**. Particularly, we will be building a machine learning model using the ChEMBL bioactivity data.\n",
    "\n",
    "---"
   ]
  },
  {
   "cell_type": "markdown",
   "metadata": {
    "id": "3iQiERxumDor",
    "colab_type": "text"
   },
   "source": [
    "## **ChEMBL Database**\n",
    "\n",
    "The [*ChEMBL Database*](https://www.ebi.ac.uk/chembl/) is a database that contains curated bioactivity data of more than 2 million compounds. It is compiled from more than 76,000 documents, 1.2 million assays and the data spans 13,000 targets and 1,800 cells and 33,000 indications.\n",
    "[Data as of March 25, 2020; ChEMBL version 26]."
   ]
  },
  {
   "cell_type": "markdown",
   "metadata": {
    "id": "iryGAwAIQ4yf",
    "colab_type": "text"
   },
   "source": [
    "## **Installing libraries**"
   ]
  },
  {
   "cell_type": "markdown",
   "metadata": {
    "id": "toGT1U_B7F2i",
    "colab_type": "text"
   },
   "source": [
    "Install the ChEMBL web service package so that we can retrieve bioactivity data from the ChEMBL Database."
   ]
  },
  {
   "cell_type": "code",
   "metadata": {
    "id": "cJGExHQBfLh7",
    "colab_type": "code",
    "outputId": "783c9cb5-c5d4-4545-a9d3-6c2a2f2b0e53",
    "colab": {
     "base_uri": "https://localhost:8080/",
     "height": 349
    }
   },
   "source": [
    "! pip install chembl_webresource_client"
   ],
   "execution_count": 9,
   "outputs": [
    {
     "name": "stdout",
     "output_type": "stream",
     "text": [
      "Requirement already satisfied: chembl_webresource_client in c:\\users\\june3\\pycharmprojects\\bioinformatics\\venv\\lib\\site-packages (0.10.2)\n",
      "Requirement already satisfied: urllib3 in c:\\users\\june3\\pycharmprojects\\bioinformatics\\venv\\lib\\site-packages (from chembl_webresource_client) (1.26.2)\n",
      "Requirement already satisfied: requests>=2.18.4 in c:\\users\\june3\\pycharmprojects\\bioinformatics\\venv\\lib\\site-packages (from chembl_webresource_client) (2.25.1)\n",
      "Requirement already satisfied: requests-cache>=0.4.7 in c:\\users\\june3\\pycharmprojects\\bioinformatics\\venv\\lib\\site-packages (from chembl_webresource_client) (0.5.2)\n",
      "Requirement already satisfied: easydict in c:\\users\\june3\\pycharmprojects\\bioinformatics\\venv\\lib\\site-packages (from chembl_webresource_client) (1.9)\n",
      "Requirement already satisfied: certifi>=2017.4.17 in c:\\users\\june3\\pycharmprojects\\bioinformatics\\venv\\lib\\site-packages (from requests>=2.18.4->chembl_webresource_client) (2020.12.5)\n",
      "Requirement already satisfied: idna<3,>=2.5 in c:\\users\\june3\\pycharmprojects\\bioinformatics\\venv\\lib\\site-packages (from requests>=2.18.4->chembl_webresource_client) (2.10)\n",
      "Requirement already satisfied: chardet<5,>=3.0.2 in c:\\users\\june3\\pycharmprojects\\bioinformatics\\venv\\lib\\site-packages (from requests>=2.18.4->chembl_webresource_client) (4.0.0)\n"
     ]
    }
   ]
  },
  {
   "cell_type": "markdown",
   "metadata": {
    "id": "J0kJjL8gb5nX",
    "colab_type": "text"
   },
   "source": [
    "## **Importing libraries**"
   ]
  },
  {
   "cell_type": "code",
   "metadata": {
    "id": "RXoCvMPPfNrv",
    "colab_type": "code",
    "colab": {}
   },
   "source": [
    "# Import necessary libraries\n",
    "import pandas as pd\n",
    "from chembl_webresource_client.new_client import new_client"
   ],
   "execution_count": 10,
   "outputs": []
  },
  {
   "cell_type": "markdown",
   "metadata": {
    "id": "1FgUai1bfigC",
    "colab_type": "text"
   },
   "source": [
    "## **Search for Target protein**"
   ]
  },
  {
   "cell_type": "markdown",
   "metadata": {
    "id": "7lBsDrD0gAqH",
    "colab_type": "text"
   },
   "source": [
    "### **Target search for coronavirus**"
   ]
  },
  {
   "cell_type": "code",
   "metadata": {
    "id": "Vxtp79so4ZjF",
    "colab_type": "code",
    "outputId": "e90dde45-1c0d-4fd9-f693-cb6e6032e2cd",
    "colab": {
     "base_uri": "https://localhost:8080/",
     "height": 145
    }
   },
   "source": [
    "# Target search for coronavirus\n",
    "target = new_client.target\n",
    "target_query = target.search('coronavirus')\n",
    "targets = pd.DataFrame.from_dict(target_query)\n",
    "targets"
   ],
   "execution_count": 11,
   "outputs": [
    {
     "data": {
      "text/plain": "                                    cross_references  \\\n0                                                 []   \n1                                                 []   \n2                                                 []   \n3                                                 []   \n4  [{'xref_id': 'P0C6U8', 'xref_name': None, 'xre...   \n5                                                 []   \n6  [{'xref_id': 'P0C6X7', 'xref_name': None, 'xre...   \n\n                                            organism  \\\n0                                        Coronavirus   \n1                                   SARS coronavirus   \n2                                 Feline coronavirus   \n3                             Human coronavirus 229E   \n4                                   SARS coronavirus   \n5  Middle East respiratory syndrome-related coron...   \n6                                   SARS coronavirus   \n\n                                           pref_name  score  \\\n0                                        Coronavirus   17.0   \n1                                   SARS coronavirus   14.0   \n2                                 Feline coronavirus   14.0   \n3                             Human coronavirus 229E   13.0   \n4                SARS coronavirus 3C-like proteinase   10.0   \n5  Middle East respiratory syndrome-related coron...    9.0   \n6                          Replicase polyprotein 1ab    5.0   \n\n   species_group_flag target_chembl_id  \\\n0               False     CHEMBL613732   \n1               False     CHEMBL612575   \n2               False     CHEMBL612744   \n3               False     CHEMBL613837   \n4               False       CHEMBL3927   \n5               False    CHEMBL4296578   \n6               False       CHEMBL5118   \n\n                                   target_components     target_type   tax_id  \n0                                                 []        ORGANISM    11119  \n1                                                 []        ORGANISM   227859  \n2                                                 []        ORGANISM    12663  \n3                                                 []        ORGANISM    11137  \n4  [{'accession': 'P0C6U8', 'component_descriptio...  SINGLE PROTEIN   227859  \n5                                                 []        ORGANISM  1335626  \n6  [{'accession': 'P0C6X7', 'component_descriptio...  SINGLE PROTEIN   227859  ",
      "text/html": "<div>\n<style scoped>\n    .dataframe tbody tr th:only-of-type {\n        vertical-align: middle;\n    }\n\n    .dataframe tbody tr th {\n        vertical-align: top;\n    }\n\n    .dataframe thead th {\n        text-align: right;\n    }\n</style>\n<table border=\"1\" class=\"dataframe\">\n  <thead>\n    <tr style=\"text-align: right;\">\n      <th></th>\n      <th>cross_references</th>\n      <th>organism</th>\n      <th>pref_name</th>\n      <th>score</th>\n      <th>species_group_flag</th>\n      <th>target_chembl_id</th>\n      <th>target_components</th>\n      <th>target_type</th>\n      <th>tax_id</th>\n    </tr>\n  </thead>\n  <tbody>\n    <tr>\n      <th>0</th>\n      <td>[]</td>\n      <td>Coronavirus</td>\n      <td>Coronavirus</td>\n      <td>17.0</td>\n      <td>False</td>\n      <td>CHEMBL613732</td>\n      <td>[]</td>\n      <td>ORGANISM</td>\n      <td>11119</td>\n    </tr>\n    <tr>\n      <th>1</th>\n      <td>[]</td>\n      <td>SARS coronavirus</td>\n      <td>SARS coronavirus</td>\n      <td>14.0</td>\n      <td>False</td>\n      <td>CHEMBL612575</td>\n      <td>[]</td>\n      <td>ORGANISM</td>\n      <td>227859</td>\n    </tr>\n    <tr>\n      <th>2</th>\n      <td>[]</td>\n      <td>Feline coronavirus</td>\n      <td>Feline coronavirus</td>\n      <td>14.0</td>\n      <td>False</td>\n      <td>CHEMBL612744</td>\n      <td>[]</td>\n      <td>ORGANISM</td>\n      <td>12663</td>\n    </tr>\n    <tr>\n      <th>3</th>\n      <td>[]</td>\n      <td>Human coronavirus 229E</td>\n      <td>Human coronavirus 229E</td>\n      <td>13.0</td>\n      <td>False</td>\n      <td>CHEMBL613837</td>\n      <td>[]</td>\n      <td>ORGANISM</td>\n      <td>11137</td>\n    </tr>\n    <tr>\n      <th>4</th>\n      <td>[{'xref_id': 'P0C6U8', 'xref_name': None, 'xre...</td>\n      <td>SARS coronavirus</td>\n      <td>SARS coronavirus 3C-like proteinase</td>\n      <td>10.0</td>\n      <td>False</td>\n      <td>CHEMBL3927</td>\n      <td>[{'accession': 'P0C6U8', 'component_descriptio...</td>\n      <td>SINGLE PROTEIN</td>\n      <td>227859</td>\n    </tr>\n    <tr>\n      <th>5</th>\n      <td>[]</td>\n      <td>Middle East respiratory syndrome-related coron...</td>\n      <td>Middle East respiratory syndrome-related coron...</td>\n      <td>9.0</td>\n      <td>False</td>\n      <td>CHEMBL4296578</td>\n      <td>[]</td>\n      <td>ORGANISM</td>\n      <td>1335626</td>\n    </tr>\n    <tr>\n      <th>6</th>\n      <td>[{'xref_id': 'P0C6X7', 'xref_name': None, 'xre...</td>\n      <td>SARS coronavirus</td>\n      <td>Replicase polyprotein 1ab</td>\n      <td>5.0</td>\n      <td>False</td>\n      <td>CHEMBL5118</td>\n      <td>[{'accession': 'P0C6X7', 'component_descriptio...</td>\n      <td>SINGLE PROTEIN</td>\n      <td>227859</td>\n    </tr>\n  </tbody>\n</table>\n</div>"
     },
     "execution_count": 11,
     "metadata": {},
     "output_type": "execute_result"
    }
   ]
  },
  {
   "cell_type": "markdown",
   "metadata": {
    "id": "Y5OPfEALjAfZ",
    "colab_type": "text"
   },
   "source": [
    "### **Select and retrieve bioactivity data for *SARS coronavirus 3C-like proteinase* (fifth entry)**"
   ]
  },
  {
   "cell_type": "markdown",
   "metadata": {
    "id": "gSQ3aroOgML7",
    "colab_type": "text"
   },
   "source": [
    "We will assign the fifth entry (which corresponds to the target protein, *coronavirus 3C-like proteinase*) to the ***selected_target*** variable "
   ]
  },
  {
   "cell_type": "code",
   "metadata": {
    "id": "StrcHMVLha7u",
    "colab_type": "code",
    "outputId": "a558535b-c66a-42ce-8604-3cf34dbff90b",
    "colab": {
     "base_uri": "https://localhost:8080/",
     "height": 35
    }
   },
   "source": [
    "selected_target = targets.target_chembl_id[4]\n",
    "selected_target"
   ],
   "execution_count": 12,
   "outputs": [
    {
     "data": {
      "text/plain": "'CHEMBL3927'"
     },
     "execution_count": 12,
     "metadata": {},
     "output_type": "execute_result"
    }
   ]
  },
  {
   "cell_type": "markdown",
   "metadata": {
    "id": "GWd2DRalgjzB",
    "colab_type": "text"
   },
   "source": [
    "Here, we will retrieve only bioactivity data for *coronavirus 3C-like proteinase* (CHEMBL3927) that are reported as IC$_{50}$ values in nM (nanomolar) unit."
   ]
  },
  {
   "cell_type": "code",
   "metadata": {
    "id": "LeFbV_CsSP8D",
    "colab_type": "code",
    "colab": {}
   },
   "source": [
    "activity = new_client.activity\n",
    "res = activity.filter(target_chembl_id=selected_target).filter(standard_type=\"IC50\")"
   ],
   "execution_count": 13,
   "outputs": []
  },
  {
   "cell_type": "code",
   "metadata": {
    "id": "RC4T-NEmSWV-",
    "colab_type": "code",
    "colab": {}
   },
   "source": [
    "df = pd.DataFrame.from_dict(res)"
   ],
   "execution_count": 14,
   "outputs": []
  },
  {
   "cell_type": "code",
   "metadata": {
    "id": "s9iUAXFdSkoM",
    "colab_type": "code",
    "outputId": "c9b681cc-97ab-40fb-a735-5e2b39612f8c",
    "colab": {
     "base_uri": "https://localhost:8080/",
     "height": 265
    }
   },
   "source": [
    "df.head(3)"
   ],
   "execution_count": 15,
   "outputs": [
    {
     "data": {
      "text/plain": "  activity_comment  activity_id activity_properties assay_chembl_id  \\\n0             None      1480935                  []    CHEMBL829584   \n1             None      1480936                  []    CHEMBL829584   \n2             None      1481061                  []    CHEMBL830868   \n\n                                   assay_description assay_type bao_endpoint  \\\n0  In vitro inhibitory concentration against SARS...          B  BAO_0000190   \n1  In vitro inhibitory concentration against SARS...          B  BAO_0000190   \n2  In vitro inhibitory concentration against SARS...          B  BAO_0000190   \n\n    bao_format              bao_label  \\\n0  BAO_0000357  single protein format   \n1  BAO_0000357  single protein format   \n2  BAO_0000357  single protein format   \n\n                          canonical_smiles  ...   target_organism  \\\n0   Cc1noc(C)c1CN1C(=O)C(=O)c2cc(C#N)ccc21  ...  SARS coronavirus   \n1   O=C1C(=O)N(Cc2ccc(F)cc2Cl)c2ccc(I)cc21  ...  SARS coronavirus   \n2  O=C1C(=O)N(CC2COc3ccccc3O2)c2ccc(I)cc21  ...  SARS coronavirus   \n\n                      target_pref_name target_tax_id text_value  toid  type  \\\n0  SARS coronavirus 3C-like proteinase        227859       None  None  IC50   \n1  SARS coronavirus 3C-like proteinase        227859       None  None  IC50   \n2  SARS coronavirus 3C-like proteinase        227859       None  None  IC50   \n\n  units    uo_units upper_value value  \n0    uM  UO_0000065        None   7.2  \n1    uM  UO_0000065        None   9.4  \n2    uM  UO_0000065        None  13.5  \n\n[3 rows x 43 columns]",
      "text/html": "<div>\n<style scoped>\n    .dataframe tbody tr th:only-of-type {\n        vertical-align: middle;\n    }\n\n    .dataframe tbody tr th {\n        vertical-align: top;\n    }\n\n    .dataframe thead th {\n        text-align: right;\n    }\n</style>\n<table border=\"1\" class=\"dataframe\">\n  <thead>\n    <tr style=\"text-align: right;\">\n      <th></th>\n      <th>activity_comment</th>\n      <th>activity_id</th>\n      <th>activity_properties</th>\n      <th>assay_chembl_id</th>\n      <th>assay_description</th>\n      <th>assay_type</th>\n      <th>bao_endpoint</th>\n      <th>bao_format</th>\n      <th>bao_label</th>\n      <th>canonical_smiles</th>\n      <th>...</th>\n      <th>target_organism</th>\n      <th>target_pref_name</th>\n      <th>target_tax_id</th>\n      <th>text_value</th>\n      <th>toid</th>\n      <th>type</th>\n      <th>units</th>\n      <th>uo_units</th>\n      <th>upper_value</th>\n      <th>value</th>\n    </tr>\n  </thead>\n  <tbody>\n    <tr>\n      <th>0</th>\n      <td>None</td>\n      <td>1480935</td>\n      <td>[]</td>\n      <td>CHEMBL829584</td>\n      <td>In vitro inhibitory concentration against SARS...</td>\n      <td>B</td>\n      <td>BAO_0000190</td>\n      <td>BAO_0000357</td>\n      <td>single protein format</td>\n      <td>Cc1noc(C)c1CN1C(=O)C(=O)c2cc(C#N)ccc21</td>\n      <td>...</td>\n      <td>SARS coronavirus</td>\n      <td>SARS coronavirus 3C-like proteinase</td>\n      <td>227859</td>\n      <td>None</td>\n      <td>None</td>\n      <td>IC50</td>\n      <td>uM</td>\n      <td>UO_0000065</td>\n      <td>None</td>\n      <td>7.2</td>\n    </tr>\n    <tr>\n      <th>1</th>\n      <td>None</td>\n      <td>1480936</td>\n      <td>[]</td>\n      <td>CHEMBL829584</td>\n      <td>In vitro inhibitory concentration against SARS...</td>\n      <td>B</td>\n      <td>BAO_0000190</td>\n      <td>BAO_0000357</td>\n      <td>single protein format</td>\n      <td>O=C1C(=O)N(Cc2ccc(F)cc2Cl)c2ccc(I)cc21</td>\n      <td>...</td>\n      <td>SARS coronavirus</td>\n      <td>SARS coronavirus 3C-like proteinase</td>\n      <td>227859</td>\n      <td>None</td>\n      <td>None</td>\n      <td>IC50</td>\n      <td>uM</td>\n      <td>UO_0000065</td>\n      <td>None</td>\n      <td>9.4</td>\n    </tr>\n    <tr>\n      <th>2</th>\n      <td>None</td>\n      <td>1481061</td>\n      <td>[]</td>\n      <td>CHEMBL830868</td>\n      <td>In vitro inhibitory concentration against SARS...</td>\n      <td>B</td>\n      <td>BAO_0000190</td>\n      <td>BAO_0000357</td>\n      <td>single protein format</td>\n      <td>O=C1C(=O)N(CC2COc3ccccc3O2)c2ccc(I)cc21</td>\n      <td>...</td>\n      <td>SARS coronavirus</td>\n      <td>SARS coronavirus 3C-like proteinase</td>\n      <td>227859</td>\n      <td>None</td>\n      <td>None</td>\n      <td>IC50</td>\n      <td>uM</td>\n      <td>UO_0000065</td>\n      <td>None</td>\n      <td>13.5</td>\n    </tr>\n  </tbody>\n</table>\n<p>3 rows × 43 columns</p>\n</div>"
     },
     "execution_count": 15,
     "metadata": {},
     "output_type": "execute_result"
    }
   ]
  },
  {
   "cell_type": "code",
   "metadata": {
    "id": "oNtBv36dYhxy",
    "colab_type": "code",
    "outputId": "db6a7832-55eb-484c-b56c-98cdcd5944dd",
    "colab": {
     "base_uri": "https://localhost:8080/",
     "height": 35
    }
   },
   "source": [
    "df.standard_type.unique()"
   ],
   "execution_count": 16,
   "outputs": [
    {
     "data": {
      "text/plain": "array(['IC50'], dtype=object)"
     },
     "execution_count": 16,
     "metadata": {},
     "output_type": "execute_result"
    }
   ]
  },
  {
   "cell_type": "markdown",
   "metadata": {
    "id": "fQ78N26Fg15T",
    "colab_type": "text"
   },
   "source": [
    "Finally we will save the resulting bioactivity data to a CSV file **bioactivity_data.csv**."
   ]
  },
  {
   "cell_type": "code",
   "metadata": {
    "id": "ZvUUEIVxTOH1",
    "colab_type": "code",
    "colab": {}
   },
   "source": [
    "df.to_csv('bioactivity_data.csv', index=False)"
   ],
   "execution_count": 17,
   "outputs": []
  },
  {
   "cell_type": "markdown",
   "metadata": {
    "id": "BOrSrTGjOWU7",
    "colab_type": "text"
   },
   "source": [
    "## **Copying files to Google Drive**"
   ]
  },
  {
   "cell_type": "markdown",
   "metadata": {
    "id": "PRputWaI7ZW7",
    "colab_type": "text"
   },
   "source": [
    "Firstly, we need to mount the Google Drive into Colab so that we can have access to our Google adrive from within Colab."
   ]
  },
  {
   "cell_type": "code",
   "metadata": {
    "id": "6RBX658q65A5",
    "colab_type": "code",
    "outputId": "04a014cd-9f34-4a8f-e45f-50b380d9d41b",
    "colab": {
     "base_uri": "https://localhost:8080/",
     "height": 124
    }
   },
   "source": [
    "from google.colab import drive\n",
    "drive.mount('/content/gdrive/', force_remount=True)\n"
   ],
   "execution_count": 18,
   "outputs": [
    {
     "ename": "ModuleNotFoundError",
     "evalue": "No module named 'google'",
     "output_type": "error",
     "traceback": [
      "\u001B[1;31m---------------------------------------------------------------------------\u001B[0m",
      "\u001B[1;31mModuleNotFoundError\u001B[0m                       Traceback (most recent call last)",
      "\u001B[1;32m<ipython-input-18-00248dbbbd9f>\u001B[0m in \u001B[0;36m<module>\u001B[1;34m\u001B[0m\n\u001B[1;32m----> 1\u001B[1;33m \u001B[1;32mfrom\u001B[0m \u001B[0mgoogle\u001B[0m\u001B[1;33m.\u001B[0m\u001B[0mcolab\u001B[0m \u001B[1;32mimport\u001B[0m \u001B[0mdrive\u001B[0m\u001B[1;33m\u001B[0m\u001B[1;33m\u001B[0m\u001B[0m\n\u001B[0m\u001B[0;32m      2\u001B[0m \u001B[0mdrive\u001B[0m\u001B[1;33m.\u001B[0m\u001B[0mmount\u001B[0m\u001B[1;33m(\u001B[0m\u001B[1;34m'/content/gdrive/'\u001B[0m\u001B[1;33m,\u001B[0m \u001B[0mforce_remount\u001B[0m\u001B[1;33m=\u001B[0m\u001B[1;32mTrue\u001B[0m\u001B[1;33m)\u001B[0m\u001B[1;33m\u001B[0m\u001B[1;33m\u001B[0m\u001B[0m\n\u001B[0;32m      3\u001B[0m \u001B[1;33m\u001B[0m\u001B[0m\n\u001B[0;32m      4\u001B[0m \u001B[1;33m\u001B[0m\u001B[0m\n",
      "\u001B[1;31mModuleNotFoundError\u001B[0m: No module named 'google'"
     ]
    }
   ]
  },
  {
   "cell_type": "markdown",
   "metadata": {
    "id": "CMlY0xudN1mL",
    "colab_type": "text"
   },
   "source": [
    "Next, we create a **data** folder in our **Colab Notebooks** folder on Google Drive."
   ]
  },
  {
   "cell_type": "code",
   "metadata": {
    "id": "tew-UtUWIS__",
    "colab_type": "code",
    "colab": {}
   },
   "source": [
    "! mkdir \"/content/gdrive/My Drive/Colab Notebooks/data2\""
   ],
   "execution_count": null,
   "outputs": []
  },
  {
   "cell_type": "code",
   "metadata": {
    "id": "YDMBpK2XJ_rJ",
    "colab_type": "code",
    "colab": {}
   },
   "source": [
    "! cp bioactivity_data.csv \"/content/gdrive/My Drive/Colab Notebooks/data\""
   ],
   "execution_count": null,
   "outputs": []
  },
  {
   "cell_type": "code",
   "metadata": {
    "id": "iRIr1QiEJtuw",
    "colab_type": "code",
    "outputId": "e400f4d9-3ce7-4822-8837-33eb2499c1c1",
    "colab": {
     "base_uri": "https://localhost:8080/",
     "height": 52
    }
   },
   "source": [
    "! ls -l \"/content/gdrive/My Drive/Colab Notebooks/data\""
   ],
   "execution_count": null,
   "outputs": []
  },
  {
   "cell_type": "markdown",
   "metadata": {
    "id": "z9NwrYJni8CH",
    "colab_type": "text"
   },
   "source": [
    "Let's see the CSV files that we have so far."
   ]
  },
  {
   "cell_type": "code",
   "metadata": {
    "id": "FO3cZC5vnCht",
    "colab_type": "code",
    "outputId": "f5e07f1f-7a24-4d8e-ca52-e5e36e4daea1",
    "colab": {
     "base_uri": "https://localhost:8080/",
     "height": 35
    }
   },
   "source": [
    "! ls"
   ],
   "execution_count": null,
   "outputs": []
  },
  {
   "cell_type": "markdown",
   "metadata": {
    "id": "7UAasSu5jAeB",
    "colab_type": "text"
   },
   "source": [
    "Taking a glimpse of the **bioactivity_data.csv** file that we've just created."
   ]
  },
  {
   "cell_type": "code",
   "metadata": {
    "id": "jwEJjx5b5gAn",
    "colab_type": "code",
    "outputId": "69dce8c6-565d-4537-952e-b01da9f2fd83",
    "colab": {
     "base_uri": "https://localhost:8080/",
     "height": 211
    }
   },
   "source": [
    "! head bioactivity_data.csv"
   ],
   "execution_count": null,
   "outputs": []
  },
  {
   "cell_type": "markdown",
   "metadata": {
    "id": "_GXMpFNUOn_8",
    "colab_type": "text"
   },
   "source": [
    "## **Handling missing data**\n",
    "If any compounds has missing value for the **standard_value** column then drop it"
   ]
  },
  {
   "cell_type": "code",
   "metadata": {
    "id": "hkVOdk6ZR396",
    "colab_type": "code",
    "outputId": "fc08d57e-f832-4cb0-90f2-dc7394b0209d",
    "colab": {
     "base_uri": "https://localhost:8080/",
     "height": 782
    }
   },
   "source": [
    "df2 = df[df.standard_value.notna()]\n",
    "df2"
   ],
   "execution_count": null,
   "outputs": []
  },
  {
   "cell_type": "markdown",
   "metadata": {
    "id": "Y-qNsUlmjS25",
    "colab_type": "text"
   },
   "source": [
    "Apparently, for this dataset there is no missing data. But we can use the above code cell for bioactivity data of other target protein."
   ]
  },
  {
   "cell_type": "markdown",
   "metadata": {
    "id": "5H4sSFAWhV9B",
    "colab_type": "text"
   },
   "source": [
    "## **Data pre-processing of the bioactivity data**"
   ]
  },
  {
   "cell_type": "markdown",
   "metadata": {
    "id": "tO22XVlzhkXR",
    "colab_type": "text"
   },
   "source": [
    "### **Labeling compounds as either being active, inactive or intermediate**\n",
    "The bioactivity data is in the IC50 unit. Compounds having values of less than 1000 nM will be considered to be **active** while those greater than 10,000 nM will be considered to be **inactive**. As for those values in between 1,000 and 10,000 nM will be referred to as **intermediate**. "
   ]
  },
  {
   "cell_type": "code",
   "metadata": {
    "id": "1E8rz7oMOd-5",
    "colab_type": "code",
    "colab": {}
   },
   "source": [
    "bioactivity_class = []\n",
    "for i in df2.standard_value:\n",
    "  if float(i) >= 10000:\n",
    "    bioactivity_class.append(\"inactive\")\n",
    "  elif float(i) <= 1000:\n",
    "    bioactivity_class.append(\"active\")\n",
    "  else:\n",
    "    bioactivity_class.append(\"intermediate\")"
   ],
   "execution_count": null,
   "outputs": []
  },
  {
   "cell_type": "markdown",
   "metadata": {
    "id": "PFsmb2N9hnTB",
    "colab_type": "text"
   },
   "source": [
    "### **Iterate the *molecule_chembl_id* to a list**"
   ]
  },
  {
   "cell_type": "code",
   "metadata": {
    "id": "DMJng9xnVnMM",
    "colab_type": "code",
    "colab": {}
   },
   "source": [
    "mol_cid = []\n",
    "for i in df2.molecule_chembl_id:\n",
    "  mol_cid.append(i)"
   ],
   "execution_count": null,
   "outputs": []
  },
  {
   "cell_type": "markdown",
   "metadata": {
    "id": "YRieJc9dhuVZ",
    "colab_type": "text"
   },
   "source": [
    "### **Iterate *canonical_smiles* to a list**"
   ]
  },
  {
   "cell_type": "code",
   "metadata": {
    "id": "AT8qUBk1eVmj",
    "colab_type": "code",
    "colab": {}
   },
   "source": [
    "canonical_smiles = []\n",
    "for i in df2.canonical_smiles:\n",
    "  canonical_smiles.append(i)"
   ],
   "execution_count": null,
   "outputs": []
  },
  {
   "cell_type": "markdown",
   "metadata": {
    "id": "DZFugUXxhwjE",
    "colab_type": "text"
   },
   "source": [
    "### **Iterate *standard_value* to a list**"
   ]
  },
  {
   "cell_type": "code",
   "metadata": {
    "id": "ZaPt-FjEZNBe",
    "colab_type": "code",
    "colab": {}
   },
   "source": [
    "standard_value = []\n",
    "for i in df2.standard_value:\n",
    "  standard_value.append(i)"
   ],
   "execution_count": null,
   "outputs": []
  },
  {
   "cell_type": "markdown",
   "metadata": {
    "id": "Nv2dzid_hzKd",
    "colab_type": "text"
   },
   "source": [
    "### **Combine the 4 lists into a dataframe**"
   ]
  },
  {
   "cell_type": "code",
   "metadata": {
    "id": "TWlYO4I3Wrh-",
    "colab_type": "code",
    "colab": {}
   },
   "source": [
    "data_tuples = list(zip(mol_cid, canonical_smiles, bioactivity_class, standard_value))\n",
    "df3 = pd.DataFrame( data_tuples,  columns=['molecule_chembl_id', 'canonical_smiles', 'bioactivity_class', 'standard_value'])"
   ],
   "execution_count": null,
   "outputs": []
  },
  {
   "cell_type": "code",
   "metadata": {
    "id": "Li64nUiZQ-y2",
    "colab_type": "code",
    "outputId": "a1d4cdb5-922d-4573-9f8b-abcb7ef72a58",
    "colab": {
     "base_uri": "https://localhost:8080/",
     "height": 415
    }
   },
   "source": [
    "df3"
   ],
   "execution_count": null,
   "outputs": []
  },
  {
   "cell_type": "markdown",
   "metadata": {
    "id": "vE0Vvo6ic3MI",
    "colab_type": "text"
   },
   "source": [
    "### **Alternative method**"
   ]
  },
  {
   "cell_type": "code",
   "metadata": {
    "id": "VICiiCtqc2ne",
    "colab_type": "code",
    "outputId": "0b39e703-b724-4f02-d86c-ea07791cdeed",
    "colab": {
     "base_uri": "https://localhost:8080/",
     "height": 415
    }
   },
   "source": [
    "selection = ['molecule_chembl_id', 'canonical_smiles', 'standard_value']\n",
    "df3 = df2[selection]\n",
    "df3"
   ],
   "execution_count": null,
   "outputs": []
  },
  {
   "cell_type": "code",
   "metadata": {
    "id": "d8nV77oWdbq1",
    "colab_type": "code",
    "outputId": "2df59721-3567-48bc-a732-a0b09fa8aa12",
    "colab": {
     "base_uri": "https://localhost:8080/",
     "height": 415
    }
   },
   "source": [
    "pd.concat([df3,pd.Series(bioactivity_class)], axis=1)"
   ],
   "execution_count": null,
   "outputs": []
  },
  {
   "cell_type": "markdown",
   "metadata": {
    "id": "9tlgyexWh7YJ",
    "colab_type": "text"
   },
   "source": [
    "Saves dataframe to CSV file"
   ]
  },
  {
   "cell_type": "code",
   "metadata": {
    "id": "nSNia7suXstR",
    "colab_type": "code",
    "colab": {}
   },
   "source": [
    "df3.to_csv('bioactivity_preprocessed_data.csv', index=False)"
   ],
   "execution_count": null,
   "outputs": []
  },
  {
   "cell_type": "code",
   "metadata": {
    "id": "UuZf5-MEd-H5",
    "colab_type": "code",
    "outputId": "19e008f4-267b-490b-9b2c-e5f88a47a48a",
    "colab": {
     "base_uri": "https://localhost:8080/",
     "height": 104
    }
   },
   "source": [
    "! ls -l"
   ],
   "execution_count": null,
   "outputs": []
  },
  {
   "cell_type": "markdown",
   "metadata": {
    "id": "_C7rqJKTePhV",
    "colab_type": "text"
   },
   "source": [
    "Let's copy to the Google Drive"
   ]
  },
  {
   "cell_type": "code",
   "metadata": {
    "id": "ZfyvJcENeHDB",
    "colab_type": "code",
    "colab": {}
   },
   "source": [
    "! cp bioactivity_preprocessed_data.csv \"/content/gdrive/My Drive/Colab Notebooks/data\""
   ],
   "execution_count": null,
   "outputs": []
  },
  {
   "cell_type": "code",
   "metadata": {
    "id": "7PU7yU9leLV5",
    "colab_type": "code",
    "outputId": "c07ddf6b-e372-4807-bc0f-7f0b2944a0cf",
    "colab": {
     "base_uri": "https://localhost:8080/",
     "height": 35
    }
   },
   "source": [
    "! ls \"/content/gdrive/My Drive/Colab Notebooks/data\""
   ],
   "execution_count": null,
   "outputs": []
  },
  {
   "cell_type": "markdown",
   "metadata": {
    "id": "ZywB5K_Dlawb",
    "colab_type": "text"
   },
   "source": [
    "---"
   ]
  }
 ]
}